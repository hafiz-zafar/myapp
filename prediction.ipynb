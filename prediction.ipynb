{
 "cells": [
  {
   "cell_type": "code",
   "execution_count": 8,
   "metadata": {},
   "outputs": [],
   "source": [
    "import requests\n",
    "import numpy as np\n",
    "import pandas as pd\n",
    "import tensorflow as tf\n",
    "from tensorflow.keras.models import Sequential, load_model\n",
    "from tensorflow.keras.layers import GRU, Dense, Dropout\n",
    "from tensorflow.keras.regularizers import l2\n",
    "from tensorflow.keras.callbacks import EarlyStopping\n",
    "import matplotlib.pyplot as plt\n",
    "from sklearn.preprocessing import MinMaxScaler\n",
    "from sklearn.metrics import mean_squared_error, mean_absolute_error\n",
    "import joblib\n",
    "import time\n",
    "import os"
   ]
  },
  {
   "cell_type": "code",
   "execution_count": 9,
   "metadata": {},
   "outputs": [],
   "source": [
    "\n",
    "# ## Fetch Crypto Data\n",
    "\n",
    "def fetch_crypto_data(symbol, interval, limit=100, retries=3, delay=2):\n",
    "    url = f\"https://api.binance.us/api/v3/klines?symbol={symbol}USDT&interval={interval}&limit={limit}\"\n",
    "    for attempt in range(retries):\n",
    "        try:\n",
    "            response = requests.get(url)\n",
    "            response.raise_for_status()\n",
    "            data = response.json()\n",
    "            df = pd.DataFrame(data, columns=['timestamp', 'open', 'high', 'low', 'close', 'volume', 'close_time',\n",
    "                                             'quote_asset_volume', 'trades', 'taker_buy_base', 'taker_buy_quote', 'ignore'])\n",
    "            df['timestamp'] = pd.to_datetime(df['timestamp'], unit='ms')\n",
    "            df.set_index('timestamp', inplace=True)\n",
    "            df['close'] = df['close'].astype(float)\n",
    "            return df[['close']]\n",
    "        except requests.exceptions.RequestException as e:\n",
    "            print(f\"API Error (Attempt {attempt + 1}/{retries}): {e}\")\n",
    "            time.sleep(delay)\n",
    "    print(\"Failed to fetch data after retries.\")\n",
    "    return None"
   ]
  },
  {
   "cell_type": "code",
   "execution_count": 10,
   "metadata": {},
   "outputs": [],
   "source": [
    "# ## Prepare Data\n",
    "\n",
    "# %%\n",
    "def prepare_data(df, time_steps=20):\n",
    "    if len(df) <= time_steps:\n",
    "        raise ValueError(f\"Dataset too small for time_steps={time_steps}. Needs at least {time_steps + 1} rows.\")\n",
    "    \n",
    "    scaler = MinMaxScaler()\n",
    "    df_scaled = scaler.fit_transform(df)\n",
    "    \n",
    "    X, y = [], []\n",
    "    for i in range(len(df_scaled) - time_steps):\n",
    "        X.append(df_scaled[i:i + time_steps])\n",
    "        y.append(df_scaled[i + time_steps])\n",
    "    \n",
    "    X, y = np.array(X), np.array(y)\n",
    "    return X, y, scaler"
   ]
  },
  {
   "cell_type": "code",
   "execution_count": 11,
   "metadata": {},
   "outputs": [],
   "source": [
    "# ## Build GRU Model\n",
    "\n",
    "# %%\n",
    "def build_gru_model(input_shape):\n",
    "    model = Sequential([\n",
    "        GRU(50, return_sequences=True, input_shape=input_shape, kernel_regularizer=l2(0.01)),\n",
    "        Dropout(0.2),\n",
    "        GRU(50, return_sequences=False, kernel_regularizer=l2(0.01)),\n",
    "        Dropout(0.2),\n",
    "        Dense(25),\n",
    "        Dense(1)\n",
    "    ])\n",
    "    model.compile(optimizer='adam', loss='mean_squared_error')\n",
    "    return model"
   ]
  },
  {
   "cell_type": "code",
   "execution_count": 12,
   "metadata": {},
   "outputs": [],
   "source": [
    "def train_and_save_model(symbol, interval, epochs=100, batch_size=16, time_steps=20, model_filename=\"crypto_model.h5\"):\n",
    "    df = fetch_crypto_data(symbol, interval)\n",
    "    if df is None:\n",
    "        return None\n",
    "    \n",
    "    X, y, scaler = prepare_data(df, time_steps)\n",
    "    train_size = int(len(X) * 0.8)\n",
    "    X_train, y_train = X[:train_size], y[:train_size]\n",
    "    X_test, y_test = X[train_size:], y[train_size:]\n",
    "    \n",
    "    model = build_gru_model((X.shape[1], X.shape[2]))\n",
    "    early_stopping = EarlyStopping(monitor='val_loss', patience=5, restore_best_weights=True)\n",
    "    \n",
    "    # Add model checkpoint callback to save the best model\n",
    "    model_checkpoint = tf.keras.callbacks.ModelCheckpoint(\n",
    "        model_filename, monitor='val_loss', save_best_only=True, mode='min', verbose=1\n",
    "    )\n",
    "    \n",
    "    model.fit(X_train, y_train, validation_data=(X_test, y_test), epochs=epochs, batch_size=batch_size,\n",
    "              callbacks=[early_stopping, model_checkpoint])\n",
    "    \n",
    "    # Load the best model after training finishes\n",
    "    model = load_model(model_filename)\n",
    "    \n",
    "    model.save(model_filename)\n",
    "    scaler_filename = model_filename.replace(\".h5\", \"_scaler.pkl\")\n",
    "    joblib.dump(scaler, scaler_filename)\n",
    "    print(f\"Model saved as {model_filename}, Scaler saved as {scaler_filename}\")\n",
    "    return model_filename, scaler_filename\n"
   ]
  },
  {
   "cell_type": "code",
   "execution_count": 13,
   "metadata": {},
   "outputs": [],
   "source": [
    "# ## Evaluate Model\n",
    "\n",
    "# %%\n",
    "def evaluate_model(model, X_test, y_test, scaler):\n",
    "    predictions = model.predict(X_test)\n",
    "    predictions = scaler.inverse_transform(predictions)\n",
    "    y_test_original = scaler.inverse_transform(y_test)\n",
    "    \n",
    "    rmse = np.sqrt(mean_squared_error(y_test_original, predictions))\n",
    "    mae = mean_absolute_error(y_test_original, predictions)\n",
    "    \n",
    "    print(f\"RMSE: {rmse}\")\n",
    "    print(f\"MAE: {mae}\")\n"
   ]
  },
  {
   "cell_type": "code",
   "execution_count": 14,
   "metadata": {},
   "outputs": [],
   "source": [
    "# ## Load Model and Predict\n",
    "\n",
    "# %%\n",
    "def load_and_predict(model_filename, symbol, interval, time_steps=20):\n",
    "    df = fetch_crypto_data(symbol, interval)\n",
    "    if df is None:\n",
    "        return None\n",
    "    \n",
    "    X, _, scaler = prepare_data(df, time_steps)\n",
    "    model = load_model(model_filename)\n",
    "    predictions = model.predict(X)\n",
    "    predictions = scaler.inverse_transform(predictions)\n",
    "    \n",
    "    return df.index[-len(predictions):], predictions"
   ]
  },
  {
   "cell_type": "code",
   "execution_count": null,
   "metadata": {},
   "outputs": [],
   "source": []
  }
 ],
 "metadata": {
  "kernelspec": {
   "display_name": "Python 3",
   "language": "python",
   "name": "python3"
  },
  "language_info": {
   "codemirror_mode": {
    "name": "ipython",
    "version": 3
   },
   "file_extension": ".py",
   "mimetype": "text/x-python",
   "name": "python",
   "nbconvert_exporter": "python",
   "pygments_lexer": "ipython3",
   "version": "3.12.0"
  }
 },
 "nbformat": 4,
 "nbformat_minor": 2
}
